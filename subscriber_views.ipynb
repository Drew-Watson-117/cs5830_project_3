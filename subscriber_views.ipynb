{
 "cells": [
  {
   "cell_type": "markdown",
   "id": "234105e9",
   "metadata": {},
   "source": [
    "# YouTube Channel Analysis"
   ]
  },
  {
   "cell_type": "markdown",
   "id": "144ee523",
   "metadata": {},
   "source": [
    "\n",
    "## Analysis Objective\n",
    "This expanded analysis aims to provide a deeper understanding of the engagement and efficiency of the top YouTube channels by examining their views-to-subscriber ratio, visualizing the distribution of this ratio, identifying the top performers, and exploring the relationship between subscribers and views.\n",
    "    "
   ]
  },
  {
   "cell_type": "code",
   "execution_count": null,
   "id": "503ef3f6",
   "metadata": {},
   "outputs": [],
   "source": [
    "\n",
    "import pandas as pd\n",
    "import matplotlib.pyplot as plt\n",
    "import seaborn as sns\n",
    "\n",
    "# Load the dataset\n",
    "df = pd.read_csv('./youtube_channels_stats.csv')\n",
    "\n",
    "# Calculate the Views per Subscriber Ratio\n",
    "df['Views_per_Subscriber'] = df['View Count'] / df['Subscriber Count']\n",
    "df_sorted = df.sort_values(by='Views_per_Subscriber', ascending=False)\n",
    "\n",
    "df_sorted.head()\n"
   ]
  },
  {
   "cell_type": "code",
   "execution_count": null,
   "id": "5264d58a",
   "metadata": {},
   "outputs": [],
   "source": [
    "\n",
    "# Plotting the distribution of views-to-subscriber ratios\n",
    "plt.figure(figsize=(10, 6))\n",
    "sns.histplot(df['Views_per_Subscriber'], bins=30, kde=True)\n",
    "plt.title('Distribution of Views to Subscriber Ratio')\n",
    "plt.xlabel('Views per Subscriber')\n",
    "plt.ylabel('Frequency')\n",
    "plt.show()\n"
   ]
  },
  {
   "cell_type": "code",
   "execution_count": null,
   "id": "e8b05f15",
   "metadata": {},
   "outputs": [],
   "source": [
    "\n",
    "# Displaying the top 10 channels by Views per Subscriber Ratio\n",
    "top_10 = df_sorted.head(10)\n",
    "top_10\n"
   ]
  },
  {
   "cell_type": "code",
   "execution_count": null,
   "id": "feac2dba",
   "metadata": {},
   "outputs": [],
   "source": [
    "\n",
    "# Scatter plot of Subscriber Count vs View Count\n",
    "plt.figure(figsize=(12, 8))\n",
    "sns.scatterplot(data=df, x='Subscriber Count', y='View Count', size='Views_per_Subscriber', legend=False, sizes=(20, 200))\n",
    "plt.title('Subscriber Count vs View Count with Views to Subscriber Ratio')\n",
    "plt.xlabel('Subscriber Count')\n",
    "plt.ylabel('View Count')\n",
    "plt.xscale('log')\n",
    "plt.yscale('log')\n",
    "plt.grid(True)\n",
    "plt.show()\n"
   ]
  },
  {
   "cell_type": "markdown",
   "id": "02812450",
   "metadata": {},
   "source": [
    "\n",
    "## Conclusion\n",
    "This extended analysis of YouTube channels reveals significant insights into viewer engagement and content efficiency. By examining the views-to-subscriber ratio, we identify channels with highly engaged audiences. The histogram of the ratio distribution highlights the variance in engagement across channels, while the top 10 channels by this metric showcase those with exceptional performance. Furthermore, the scatter plot reveals the relationship between subscriber count and view count, underlining the diversity in strategies for achieving YouTube success. Overall, the analysis underscores the importance of creating content that resonates with and actively engages viewers.\n"
   ]
  }
 ],
 "metadata": {
  "language_info": {
   "name": "csharp"
  }
 },
 "nbformat": 4,
 "nbformat_minor": 5
}
