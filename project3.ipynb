{
 "cells": [
  {
   "cell_type": "code",
   "execution_count": null,
   "metadata": {},
   "outputs": [],
   "source": [
    "import pandas as pd\n",
    "import seaborn as sns\n",
    "import matplotlib.pyplot as plt\n",
    "import scipy.stats as stats\n",
    "import numpy as np\n"
   ]
  },
  {
   "cell_type": "code",
   "execution_count": null,
   "metadata": {},
   "outputs": [],
   "source": [
    "channels = pd.read_csv(\"channel_data.csv\")\n",
    "channels['avgViews'] = channels['View Count'] / channels['Video Count']\n",
    "channels.replace([np.inf, -np.inf], np.nan, inplace=True)\n",
    "channels.dropna(inplace=True)\n",
    "channels"
   ]
  },
  {
   "cell_type": "markdown",
   "metadata": {},
   "source": [
    "# Is Average Viewership Proportional to Subscriber Count?"
   ]
  },
  {
   "cell_type": "markdown",
   "metadata": {},
   "source": [
    "Does the number of subscribers a channel has influence its average viewership? In this analysis, we aim to answer that question so that content creators can determine whether growing their subscriber base is a worthwhile endeavor for increasing average viewership, and subsequently profit. To do this, we will use a scatterplot for data visualization, along with linear regression to visualize possible correlation. We will also use a Pearson test to see if our results are statistically significant."
   ]
  },
  {
   "cell_type": "code",
   "execution_count": null,
   "metadata": {},
   "outputs": [],
   "source": [
    "\n",
    "sns.lmplot(data=channels, x='Subscriber Count', y='avgViews')\n",
    "plt.title(\"Average Views per Video vs. Subscriber Count\")\n",
    "plt.xlabel(\"Subscriber Count\")\n",
    "plt.ylabel(\"Average Views per Video\")\n",
    "channels.sort_values(by='avgViews', inplace=True)\n",
    "display(channels)\n",
    "\n",
    "result = stats.pearsonr(x=channels['Subscriber Count'], y=channels['avgViews'])\n",
    "display(f\"p-value: {result.pvalue}\")\n",
    "display(f\"Largest # of Subs: {channels[channels['Subscriber Count'] == channels['Subscriber Count'].max()].Title}\")\n",
    "display(f\"Largest # of Views/Video: {channels[channels['avgViews'] == channels['avgViews'].max()].Title}\")"
   ]
  },
  {
   "cell_type": "markdown",
   "metadata": {},
   "source": [
    "The plot above shows that there is a positive correlation between average viewership and subscriber count. This makes sense because the more subscribers a channel has, the more people will be regularly consuming their content, and as a result their average views per video will increase. The p-value obtained by our Pearson test further supports this idea, allowing us to reject the null hypothesis. However, notice the channels with a low subscriber amount that have an enormous amount of views per video. These outliers are popular musicians, who unlike content creators have a small amount of videos. Each music video they post tends to go viral, and so their views per video are very high."
   ]
  },
  {
   "cell_type": "markdown",
   "metadata": {},
   "source": [
    "# Are larger YouTubers better than small YouTubers at getting views?"
   ]
  },
  {
   "cell_type": "code",
   "execution_count": null,
   "metadata": {},
   "outputs": [],
   "source": [
    "cutoff = channels['Subscriber Count'].median()\n",
    "small = channels[channels['Subscriber Count'] < cutoff]\n",
    "large = channels[channels['Subscriber Count'] >= cutoff]\n",
    "\n",
    "sns.displot(data=small, x='avgViews', log_scale=True, kde=True)\n",
    "plt.title(f\"Views per Video of Channels with Less Than {cutoff} Subscribers\")\n",
    "plt.xlabel(\"Views Per Video\")\n",
    "sns.displot(data=large, x='avgViews',log_scale=True, kde=True)\n",
    "plt.title(f\"Views per Video of Channels with More Than {cutoff} Subscribers\")\n",
    "plt.xlabel(\"Views Per Video\")\n",
    "\n",
    "\n",
    "result = stats.ttest_ind(large['avgViews'],small['avgViews'])\n",
    "display(f\"T-test p-value: {result.pvalue}\")\n",
    "display(f\"Median Views/Video for Small Creators: {small['avgViews'].median()}\")\n",
    "display(f\"Median Views/Video for Large Creators: {large['avgViews'].median()}\")\n"
   ]
  },
  {
   "cell_type": "markdown",
   "metadata": {},
   "source": [
    "The plots above show that there is a difference in the distributions of views per video for small and large creators. This, combined with the large difference in the median views per video for the two populations supports the claim that there is a significant difference in the average viewership of large creators and the average viewership of small creators. This is claim is further supported by a small p-value of 0.06, which though not technically statistically significant helps lend further credibility to the claim that large creators get more views per video than small creators."
   ]
  },
  {
   "cell_type": "markdown",
   "metadata": {},
   "source": [
    "# Subscribers vs. Video Count\n",
    "\n",
    "Is the number of subscribers to a YouTube channel proportional to the number of videos that channel has uploaded? If the two are strongly correlated, then a good strategy to grow a YouTube channel would be to churn out a large quantity of videos. If they are weakly correlated or not correlated, it may not be so important for creators to be putting out a large quantity of videos. Determining whether subscriber count is correlated to total number of videos uploaded can help content creators to formulate a strategy to maximize their channel growth. "
   ]
  },
  {
   "cell_type": "code",
   "execution_count": null,
   "metadata": {},
   "outputs": [],
   "source": [
    "sns.lmplot(data=channels, x=\"Video Count\", y=\"Subscriber Count\")\n",
    "plt.title(\"Subscriber Count vs. Number of Videos\")\n",
    "result = stats.pearsonr(x=channels['Video Count'], y=channels[\"Subscriber Count\"])\n",
    "\n",
    "display(f\"Corellation coefficient: {result.statistic}\")\n",
    "display(f\"p-value: {result.pvalue}\")\n"
   ]
  },
  {
   "cell_type": "markdown",
   "metadata": {},
   "source": [
    "The plot above shows that there may be a weak correlation between the total number of videos a channel puts out and its subscriber count. The p-value obtained by a pearson test is 0.19, which says that this result is not statistically significant. This tells us that having more videos does not necessarily correspond to having more subscribers, and as such quantity of videos is not a reliable way to grow a YouTube channel"
   ]
  }
 ],
 "metadata": {
  "kernelspec": {
   "display_name": "Python 3",
   "language": "python",
   "name": "python3"
  },
  "language_info": {
   "codemirror_mode": {
    "name": "ipython",
    "version": 3
   },
   "file_extension": ".py",
   "mimetype": "text/x-python",
   "name": "python",
   "nbconvert_exporter": "python",
   "pygments_lexer": "ipython3",
   "version": "3.11.0"
  }
 },
 "nbformat": 4,
 "nbformat_minor": 2
}
